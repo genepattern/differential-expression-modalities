{
 "cells": [
  {
   "cell_type": "markdown",
   "metadata": {},
   "source": [
    "# match_to_profile\n",
    "This module performs match analysis to find genes or features that match a given phenotype best. For example, you could use this module to find genes whose expression levels match and oppose KRAS gene expression for a given set of samples.\n",
    "\n",
    "In this notebook we will use gene [GENE_NAME] as the profile"
   ]
  },
  {
   "cell_type": "markdown",
   "metadata": {},
   "source": [
    "- http://datasets.genepattern.org/all_aml/all_aml_test.cls\n",
    "- http://datasets.genepattern.org/all_aml/all_aml_test.gct"
   ]
  },
  {
   "cell_type": "code",
   "execution_count": 1,
   "metadata": {
    "genepattern": {
     "output_variable": "temp",
     "param_values": {
      "gene_expression": "http://datasets.genepattern.org/all_aml/all_aml_test.gct",
      "max_number_of_genes_to_show": "20",
      "number_of_permutations": "10",
      "output_filename": "temp-out",
      "phenotypes": "http://datasets.genepattern.org/all_aml/all_aml_test.cls",
      "random_seed": "20121020",
      "ranking_method": "custom_pearson_corr",
      "title": "no-title"
     },
     "show_code": true,
     "type": "uibuilder"
    }
   },
   "outputs": [
    {
     "data": {
      "application/vnd.jupyter.widget-view+json": {
       "model_id": "afca3b12fef048de9c2eda02871b1d2d",
       "version_major": 2,
       "version_minor": 0
      },
      "text/html": [
       "<p>Failed to display Jupyter Widget of type <code>GPUIBuilder</code>.</p>\n",
       "<p>\n",
       "  If you're reading this message in the Jupyter Notebook or JupyterLab Notebook, it may mean\n",
       "  that the widgets JavaScript is still loading. If this message persists, it\n",
       "  likely means that the widgets JavaScript library is either not installed or\n",
       "  not enabled. See the <a href=\"https://ipywidgets.readthedocs.io/en/stable/user_install.html\">Jupyter\n",
       "  Widgets Documentation</a> for setup instructions.\n",
       "</p>\n",
       "<p>\n",
       "  If you're reading this message in another frontend (for example, a static\n",
       "  rendering on GitHub or <a href=\"https://nbviewer.jupyter.org/\">NBViewer</a>),\n",
       "  it may mean that your frontend doesn't currently support widgets.\n",
       "</p>\n"
      ],
      "text/plain": [
       "GPUIBuilder(description='Sort genes according to their association with a continuous phenotype or class vector.', function_import='match_to_profile', name='Differential gene expression, continous pheotype.', params=[{'name': 'phenotypes', 'label': 'phenotypes', 'optional': False, 'default': '', 'description': 'CLS filename; input binary phenotype/class distinction', 'hide': False, 'choices': []}, {'name': 'gene_expression', 'label': 'gene_expression', 'optional': False, 'default': '', 'description': 'GCT filename; data matrix with input gene expression profiles', 'hide': False, 'choices': []}, {'name': 'output_filename', 'label': 'output_filename', 'optional': False, 'default': '', 'description': 'Output files will have this name plus extensions .txt and .pdf', 'hide': False, 'choices': []}, {'name': 'ranking_method', 'label': 'ranking_method', 'optional': False, 'default': '', 'description': 'The function to use to compute similarity between phenotypes and gene_expression', 'hide': False, 'choices': []}, {'name': 'max_number_of_genes_to_show', 'label': 'max_number_of_genes_to_show', 'optional': True, 'default': 20, 'description': 'Maximum number of genes to show in the heatmap', 'hide': False, 'choices': []}, {'name': 'number_of_permutations', 'label': 'number_of_permutations', 'optional': True, 'default': 10, 'description': 'Number of random permutations to estimate statistical significance (p-values and FDRs)', 'hide': False, 'choices': []}, {'name': 'title', 'label': 'title', 'optional': True, 'default': None, 'description': 'The title of the heatmap', 'hide': False, 'choices': []}, {'name': 'random_seed', 'label': 'random_seed', 'optional': True, 'default': 20121020, 'description': 'Random number generator seed (can be set to a user supplied integer for reproducibility)', 'hide': False, 'choices': []}])"
      ]
     },
     "metadata": {},
     "output_type": "display_data"
    }
   ],
   "source": [
    "import genepattern\n",
    "import cuzcatlan as cusca\n",
    "from cuzcatlan import match_to_profile\n",
    "import pandas as pd\n",
    "import urllib.request\n",
    "from cuzcatlan import compute_information_coefficient\n",
    "from cuzcatlan import custom_pearson_corr\n",
    "RANDOM_SEED = 20121020\n",
    "\n",
    "genepattern.GPUIBuilder(match_to_profile, name=\"Differential gene expression, continous pheotype.\", \n",
    "                        description=\"Sort genes according to their association with a continuous phenotype or class vector.\")"
   ]
  },
  {
   "cell_type": "code",
   "execution_count": 2,
   "metadata": {},
   "outputs": [
    {
     "name": "stdout",
     "output_type": "stream",
     "text": [
      "Index(['ALL 19769 TA+ Norel', 'ALL 406 TA+ (ML) Norel', 'ALL 4466 Norel',\n",
      "       'ALL 1245 TA- Norel', 'ALL 16125 TA- Norel', 'ALL 23368 TA- Norel',\n",
      "       'ALL R28 (ML) Relap', 'ALL 1234 ML', 'ALL 1305 ML', 'ALL 1421 ML',\n",
      "       'ALL 1425 ML', 'ALL 1486 ML', 'ALL 1457 ML', 'ALL 1256 TA+ (ML) Norel',\n",
      "       'ALL 1275 TA+ (ML) Norel', 'ALL 1101 TA- (ML) Norel',\n",
      "       'ALL 1319 TA- (ML) Norel', 'ALL 522 TA- (ML) Norel', 'ALL SH 6',\n",
      "       'ALL SH 12', 'ALL SH 15', 'AML 15 (PK) Norel', 'AML 19 (PK) Norel',\n",
      "       'AML 10 (PK) Relap', 'AML 9 (PK) Relap', 'AML SH 5', 'AML SH 13',\n",
      "       'AML SH 14', 'AML SH 16', 'AML SH 18', 'AML 17 ML', 'AML 25 ML',\n",
      "       'AML 11 (ML)', 'AML 12 (ML)', 'AML 5 (ML) Relap'],\n",
      "      dtype='object')\n",
      "Index(['ALL 19769 TA+ Norel', 'ALL 406 TA+ (ML) Norel', 'ALL 4466 Norel',\n",
      "       'ALL 1245 TA- Norel', 'ALL 16125 TA- Norel', 'ALL 23368 TA- Norel',\n",
      "       'ALL R28 (ML) Relap', 'ALL 1234 ML', 'ALL 1305 ML', 'ALL 1421 ML',\n",
      "       'ALL 1425 ML', 'ALL 1486 ML', 'ALL 1457 ML', 'ALL 1256 TA+ (ML) Norel',\n",
      "       'ALL 1275 TA+ (ML) Norel', 'ALL 1101 TA- (ML) Norel',\n",
      "       'ALL 1319 TA- (ML) Norel', 'ALL 522 TA- (ML) Norel', 'ALL SH 6',\n",
      "       'ALL SH 12', 'ALL SH 15', 'AML 15 (PK) Norel', 'AML 19 (PK) Norel',\n",
      "       'AML 10 (PK) Relap', 'AML 9 (PK) Relap', 'AML SH 5', 'AML SH 13',\n",
      "       'AML SH 14', 'AML SH 16', 'AML SH 18', 'AML 17 ML', 'AML 25 ML',\n",
      "       'AML 11 (ML)', 'AML 12 (ML)', 'AML 5 (ML) Relap'],\n",
      "      dtype='object')\n",
      "AML 5 (ML) Relap           1\n",
      "AML SH 13                  1\n",
      "AML 12 (ML)                1\n",
      "AML 15 (PK) Norel          1\n",
      "AML 10 (PK) Relap          1\n",
      "AML 9 (PK) Relap           1\n",
      "AML SH 5                   1\n",
      "AML 19 (PK) Norel          1\n",
      "AML SH 14                  1\n",
      "AML SH 16                  1\n",
      "AML SH 18                  1\n",
      "AML 17 ML                  1\n",
      "AML 25 ML                  1\n",
      "AML 11 (ML)                1\n",
      "ALL 1425 ML                0\n",
      "ALL 406 TA+ (ML) Norel     0\n",
      "ALL 4466 Norel             0\n",
      "ALL 1245 TA- Norel         0\n",
      "ALL 16125 TA- Norel        0\n",
      "ALL 23368 TA- Norel        0\n",
      "ALL R28 (ML) Relap         0\n",
      "ALL 1234 ML                0\n",
      "ALL 1305 ML                0\n",
      "ALL 1421 ML                0\n",
      "ALL 522 TA- (ML) Norel     0\n",
      "ALL 1486 ML                0\n",
      "ALL 1457 ML                0\n",
      "ALL 1256 TA+ (ML) Norel    0\n",
      "ALL 1275 TA+ (ML) Norel    0\n",
      "ALL 1101 TA- (ML) Norel    0\n",
      "ALL 1319 TA- (ML) Norel    0\n",
      "ALL SH 6                   0\n",
      "ALL SH 12                  0\n",
      "ALL SH 15                  0\n",
      "ALL 19769 TA+ Norel        0\n",
      "dtype: int64\n",
      "Dropping 0 axis-1 slices ...\n",
      "[[-176. -137.  -48. ...,  -95.  -12. -214.]\n",
      " [-284.  -51. -531. ..., -118. -172. -153.]\n",
      " [ -81.  -82. -124. ...,   59.   12.  -58.]\n",
      " ..., \n",
      " [  20.  -11.    0. ...,  -43.  -68.   36.]\n",
      " [ 379.  198.  284. ...,  702.  226.  191.]\n",
      " [ -60.  -33.  -73. ...,   18.   78.  -37.]] [1 1 1 1 1 1 1 1 1 1 1 1 1 1 0 0 0 0 0 0 0 0 0 0 0 0 0 0 0 0 0 0 0 0 0]\n",
      "Computing match score with <function custom_pearson_corr at 0x10afa5d90> (1 process) ...\n",
      "Computing MoEs with 30 samplings ...\n",
      "Computing p-values and FDRs with 10 permutations ...\n",
      "\t1/10 ...\n",
      "\t2/10 ...\n",
      "\t3/10 ...\n",
      "\t4/10 ...\n",
      "\t5/10 ...\n",
      "\t6/10 ...\n",
      "\t7/10 ...\n",
      "\t8/10 ...\n",
      "\t9/10 ...\n",
      "\t10/10 ...\n",
      "\t10/10 - done.\n"
     ]
    }
   ],
   "source": [
    "temp = match_to_profile(phenotypes=\"http://datasets.genepattern.org/all_aml/all_aml_test.cls\", gene_expression=\"http://datasets.genepattern.org/all_aml/all_aml_test.gct\", output_filename=\"temp-out\", ranking_method=custom_pearson_corr, max_number_of_genes_to_show=20, number_of_permutations=10, title=\"no-title\", random_seed=20121020)"
   ]
  },
  {
   "cell_type": "code",
   "execution_count": null,
   "metadata": {},
   "outputs": [],
   "source": []
  }
 ],
 "metadata": {
  "kernelspec": {
   "display_name": "Python 3",
   "language": "python",
   "name": "python3"
  },
  "language_info": {
   "codemirror_mode": {
    "name": "ipython",
    "version": 3
   },
   "file_extension": ".py",
   "mimetype": "text/x-python",
   "name": "python",
   "nbconvert_exporter": "python",
   "pygments_lexer": "ipython3",
   "version": "3.6.3"
  }
 },
 "nbformat": 4,
 "nbformat_minor": 2
}
