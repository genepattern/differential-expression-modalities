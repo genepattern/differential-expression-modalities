{
 "cells": [
  {
   "cell_type": "markdown",
   "metadata": {},
   "source": [
    "# match_to_profile\n",
    "This module performs match analysis to find genes or features that match a given phenotype best. For example, you could use this module to find genes whose expression levels match and oppose KRAS gene expression for a given set of samples.\n",
    "\n",
    "In this notebook we will use gene [GENE_NAME] as the profile"
   ]
  },
  {
   "cell_type": "markdown",
   "metadata": {},
   "source": [
    "## Importing libraries and setting globals -- to be hidden"
   ]
  },
  {
   "cell_type": "code",
   "execution_count": 1,
   "metadata": {
    "collapsed": true
   },
   "outputs": [],
   "source": [
    "import ccal\n",
    "import pandas as pd\n",
    "import numpy as np\n",
    "from ccal.modalities import differential_gene_expression\n",
    "from ccal.information.information import compute_information_coefficient\n",
    "import cuzcatlan as cusca\n",
    "# from modalities import match_to_profile\n",
    "# from modalities import differential_gene_expression"
   ]
  },
  {
   "cell_type": "markdown",
   "metadata": {
    "collapsed": true
   },
   "source": [
    "## Loading data"
   ]
  },
  {
   "cell_type": "code",
   "execution_count": 2,
   "metadata": {
    "collapsed": true
   },
   "outputs": [],
   "source": [
    "data_df = pd.read_table(\"data/BRCA_minimal.gct\", header=2, index_col=0)\n",
    "data_df.drop('Description', axis=1, inplace=True)\n",
    "temp = open(\"data/BRCA_minimal.cls\")\n",
    "temp.readline()\n",
    "temp.readline()\n",
    "classes = [int(i) for i in temp.readline().strip('\\n').split(' ')]\n",
    "classes = pd.Series(classes)\n",
    "# data_df"
   ]
  },
  {
   "cell_type": "code",
   "execution_count": 3,
   "metadata": {},
   "outputs": [
    {
     "name": "stdout",
     "output_type": "stream",
     "text": [
      "Dropping 0 axis-1 slices ...\n"
     ]
    },
    {
     "ename": "ValueError",
     "evalue": "need at least one array to concatenate",
     "output_type": "error",
     "traceback": [
      "\u001b[0;31m---------------------------------------------------------------------------\u001b[0m",
      "\u001b[0;31mValueError\u001b[0m                                Traceback (most recent call last)",
      "\u001b[0;32m<ipython-input-3-51ee8f77e938>\u001b[0m in \u001b[0;36m<module>\u001b[0;34m()\u001b[0m\n\u001b[0;32m----> 1\u001b[0;31m \u001b[0mdifferential_gene_expression\u001b[0m\u001b[0;34m(\u001b[0m\u001b[0mphenotypes\u001b[0m\u001b[0;34m=\u001b[0m\u001b[0mclasses\u001b[0m\u001b[0;34m,\u001b[0m \u001b[0mgene_expression\u001b[0m\u001b[0;34m=\u001b[0m\u001b[0mdata_df\u001b[0m\u001b[0;34m,\u001b[0m \u001b[0moutput_filename\u001b[0m\u001b[0;34m=\u001b[0m\u001b[0;34m'DE_test'\u001b[0m\u001b[0;34m,\u001b[0m\u001b[0mranking_method\u001b[0m\u001b[0;34m=\u001b[0m\u001b[0mcusca\u001b[0m\u001b[0;34m.\u001b[0m\u001b[0mcustom_pearson_corr\u001b[0m\u001b[0;34m)\u001b[0m\u001b[0;34m\u001b[0m\u001b[0m\n\u001b[0m",
      "\u001b[0;32m~/miniconda3/lib/python3.6/site-packages/ccal/modalities.py\u001b[0m in \u001b[0;36mdifferential_gene_expression\u001b[0;34m(phenotypes, gene_expression, output_filename, ranking_method, max_number_of_genes_to_show, number_of_permutations, title, random_seed)\u001b[0m\n\u001b[1;32m     38\u001b[0m         \u001b[0mtarget_type\u001b[0m\u001b[0;34m=\u001b[0m\u001b[0;34m'binary'\u001b[0m\u001b[0;34m,\u001b[0m\u001b[0;34m\u001b[0m\u001b[0m\n\u001b[1;32m     39\u001b[0m         \u001b[0mtitle\u001b[0m\u001b[0;34m=\u001b[0m\u001b[0mtitle\u001b[0m\u001b[0;34m,\u001b[0m\u001b[0;34m\u001b[0m\u001b[0m\n\u001b[0;32m---> 40\u001b[0;31m         file_path_prefix=output_filename)\n\u001b[0m\u001b[1;32m     41\u001b[0m \u001b[0;34m\u001b[0m\u001b[0m\n\u001b[1;32m     42\u001b[0m     \u001b[0;32mreturn\u001b[0m \u001b[0mgene_scores\u001b[0m\u001b[0;34m\u001b[0m\u001b[0m\n",
      "\u001b[0;32m~/miniconda3/lib/python3.6/site-packages/ccal/match/match/make_match_panel.py\u001b[0m in \u001b[0;36mmake_match_panel\u001b[0;34m(target, features, function, target_ascending, n_jobs, scores_ascending, n_features, max_n_features, n_samplings, n_permutations, random_seed, figure_size, title, target_type, features_type, max_std, target_annotation_kwargs, plot_sample_names, file_path_prefix, dpi)\u001b[0m\n\u001b[1;32m     89\u001b[0m         \u001b[0;31m# Cluster by group\u001b[0m\u001b[0;34m\u001b[0m\u001b[0;34m\u001b[0m\u001b[0m\n\u001b[1;32m     90\u001b[0m         columns = cluster_2d_array_slices_by_group(features.values,\n\u001b[0;32m---> 91\u001b[0;31m                                                    target.values)\n\u001b[0m\u001b[1;32m     92\u001b[0m         \u001b[0mfeatures\u001b[0m \u001b[0;34m=\u001b[0m \u001b[0mfeatures\u001b[0m\u001b[0;34m.\u001b[0m\u001b[0miloc\u001b[0m\u001b[0;34m[\u001b[0m\u001b[0;34m:\u001b[0m\u001b[0;34m,\u001b[0m \u001b[0mcolumns\u001b[0m\u001b[0;34m]\u001b[0m\u001b[0;34m\u001b[0m\u001b[0m\n\u001b[1;32m     93\u001b[0m \u001b[0;34m\u001b[0m\u001b[0m\n",
      "\u001b[0;32m~/miniconda3/lib/python3.6/site-packages/ccal/match/match/nd_array/nd_array/cluster_2d_array_slices_by_group.py\u001b[0m in \u001b[0;36mcluster_2d_array_slices_by_group\u001b[0;34m(array_2d, groups)\u001b[0m\n\u001b[1;32m     39\u001b[0m         \u001b[0mindices\u001b[0m\u001b[0;34m.\u001b[0m\u001b[0mappend\u001b[0m\u001b[0;34m(\u001b[0m\u001b[0mgroup_indices\u001b[0m\u001b[0;34m[\u001b[0m\u001b[0mclustered_indices\u001b[0m\u001b[0;34m]\u001b[0m\u001b[0;34m)\u001b[0m\u001b[0;34m\u001b[0m\u001b[0m\n\u001b[1;32m     40\u001b[0m \u001b[0;34m\u001b[0m\u001b[0m\n\u001b[0;32m---> 41\u001b[0;31m     \u001b[0;32mreturn\u001b[0m \u001b[0mconcatenate\u001b[0m\u001b[0;34m(\u001b[0m\u001b[0mindices\u001b[0m\u001b[0;34m)\u001b[0m\u001b[0;34m\u001b[0m\u001b[0m\n\u001b[0m",
      "\u001b[0;31mValueError\u001b[0m: need at least one array to concatenate"
     ]
    }
   ],
   "source": [
    "differential_gene_expression(phenotypes=classes, gene_expression=data_df, output_filename='DE_test',ranking_method=cusca.custom_pearson_corr)"
   ]
  },
  {
   "cell_type": "code",
   "execution_count": 17,
   "metadata": {
    "collapsed": true
   },
   "outputs": [],
   "source": [
    "# differential_gene_expression(phenotypes=classes, gene_expression=data_df, output_filename='DE_test')"
   ]
  },
  {
   "cell_type": "code",
   "execution_count": null,
   "metadata": {
    "collapsed": true
   },
   "outputs": [],
   "source": []
  }
 ],
 "metadata": {
  "kernelspec": {
   "display_name": "Python 3",
   "language": "python",
   "name": "python3"
  },
  "language_info": {
   "codemirror_mode": {
    "name": "ipython",
    "version": 3
   },
   "file_extension": ".py",
   "mimetype": "text/x-python",
   "name": "python",
   "nbconvert_exporter": "python",
   "pygments_lexer": "ipython3",
   "version": "3.6.1"
  }
 },
 "nbformat": 4,
 "nbformat_minor": 2
}
