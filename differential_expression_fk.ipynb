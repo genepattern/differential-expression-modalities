{
 "cells": [
  {
   "cell_type": "markdown",
   "metadata": {},
   "source": [
    "# Differential (gene) Expression\n",
    "\n",
    "Identify differentially expressed genes that can discriminate between distinct classes of samples.\n",
    "\n",
    "\n",
    "---\n",
    ">**Edwin Juarez PhD**, UC San Diego, School of Medicine<br>\n",
    "**Kate Medetgul-Ernar**, UC San Diego, Moores Cancer Center<br>\n",
    "**Forrest Kim**, UC San Diego, School of Medicine<br>\n",
    "\n",
    "<small>***Note:*** If you are unfamilar with the Jupyter Notebook or GenePattern Notebook environments, please complete the <a href=\"#\">**GP Notebook Tutorial**</a> before continuing.</small>\n",
    "\n",
    "<a href=\"#Differential-Expression-Module\" class=\"btn btn-info\" style=\"text-decoration: none;\">Go to Module</a>"
   ]
  },
  {
   "cell_type": "markdown",
   "metadata": {},
   "source": [
    "### Table of Contents\n",
    "\n",
    "---\n",
    ">1. [Introduction](#Introduction)\n",
    "2. [**Differential Expression Module**](#Differential-Expression-Module)\n",
    "3. [Documentation](#Documentation)\n",
    "    1. [Parameters](#Parameters)\n",
    "    2. [Input](#Input)\n",
    "    3. [Output](#Output)\n",
    "    4. [Version Information](#Version-Information)\n",
    "4. [References](#References)\n"
   ]
  },
  {
   "cell_type": "markdown",
   "metadata": {},
   "source": [
    "# Introduction\n",
    "\n",
    "- Context (why and when to use it)\n",
    "\n",
    "When analyzing genome-wide transcription profiles derived from RNA-seq or microarray experiments, the first step is often to identify differentially expressed genes that can discriminate between distinct classes of samples(ex. tumor vs. normal). \n",
    "\n",
    "- What it takes as input and what it outputs\n",
    "- different parameters\n",
    "- settings/details/specifics\n",
    "\n",
    "\n",
    "The Differential (gene) Expression module can perform differential expression analysis between two or more phenotypes. For example, you could use this module to find the most differentially expressed genes between a groups of healthy and cancerous cell lines. \n",
    "\n",
    "\n",
    "Test-statistic\n",
    "\n",
    "***TEXT BELOW STILL IN PROGRESS***\n",
    "\n",
    "If the value of the test statistic for a specific gene, and thus the degree of differential expression presented by that gene, is significantly greater than what one would expect to see under the null hypothesis (gene is not differentially expressed between classes), that gene is identified as a statistically significant marker gene.\n",
    "\n",
    "Why differential expression analysis? We assume that most genes are not expressed all the time, but rather are expressed in specific tissues, stages of development, or under certain conditions. Genes which are expressed in one condition, such as cancer tissue, are said to be differentially expressed when compared to normal conditions. To identify which genes change in response to specific conditions (e.g. cancer), we must filter or process the dataset to remove genes which are not informative.\n",
    "\n",
    "\n",
    "When analyzing genome-wide transcription profiles derived from microarray or RNA-seq experiments, the first step is often to identify differentially expressed genes that can discriminate between distinct classes of samples (usually defined by a phenotype, such as tumor or normal).  This process is commonly referred to as marker (or feature) selection.  Marker genes are identified by calculating, for each profiled gene, a test statistic (e.g., t-test) which asseses correlation of the gene's expression profile with a class template.  If the value of the test statistic for a specific gene, and thus the degree of differential expression presented by that gene, is significantly greater than what one would expect to see under the null hypothesis (gene is not differentially expressed between classes), that gene is identified as a statistically significant marker gene.  \n",
    "\n",
    "The ComparativeMarkerSelection module takes as input a dataset of expression profiles from samples belonging to two classes and, implementing the statistical tests described above, identifies marker genes which discriminate between the classes.\n",
    "\n",
    "The ComparativeMarkerSelection module includes several approaches to determine the features that are most closely correlated with a class template and the significance of that correlation.  The module computes significance values for features using several metrics, including FDR(BH), Q-Value, maxT, FWER, Feature-Specific P-Value, and Bonferroni. The results from the ComparativeMarkerSelection algorithm can be viewed with the ComparativeMarkerSelectionViewer.   ExtractComparativeMarkerResults creates a derived dataset and feature list file from the results of ComparativeMarkerSelection.\n",
    "\n",
    "By default ComparativeMarkerSelection expects the data in the input file to not be log transformed. Some of the calculations such as the fold change are not accurate when log transformed data is provided and not indicated. To indicate that your data is log transformed, be sure to set the “log transformed data” parameter to “yes”. Also, ComparativeMarkerSelection requires at least three samples per class to run successfully."
   ]
  },
  {
   "cell_type": "markdown",
   "metadata": {},
   "source": [
    "## Differential Expression Module"
   ]
  },
  {
   "cell_type": "code",
   "execution_count": 1,
   "metadata": {
    "genepattern": {
     "output_variable": "de_results",
     "param_values": {
      "gene_expression": "http://datasets.genepattern.org/all_aml/all_aml_test.gct",
      "max_number_of_genes_to_show": "20",
      "number_of_permutations": "10",
      "output_filename": "Temp",
      "phenotypes": "http://datasets.genepattern.org/all_aml/all_aml_test.cls",
      "random_seed": "20121020",
      "ranking_method": "information_coefficient",
      "title": "Temp_title"
     },
     "show_code": false,
     "type": "uibuilder"
    },
    "scrolled": false
   },
   "outputs": [
    {
     "data": {
      "application/vnd.jupyter.widget-view+json": {
       "model_id": "477fdf1eed134c73b3a36a6408a7d65e",
       "version_major": 2,
       "version_minor": 0
      },
      "text/html": [
       "<p>Failed to display Jupyter Widget of type <code>GPUIBuilder</code>.</p>\n",
       "<p>\n",
       "  If you're reading this message in the Jupyter Notebook or JupyterLab Notebook, it may mean\n",
       "  that the widgets JavaScript is still loading. If this message persists, it\n",
       "  likely means that the widgets JavaScript library is either not installed or\n",
       "  not enabled. See the <a href=\"https://ipywidgets.readthedocs.io/en/stable/user_install.html\">Jupyter\n",
       "  Widgets Documentation</a> for setup instructions.\n",
       "</p>\n",
       "<p>\n",
       "  If you're reading this message in another frontend (for example, a static\n",
       "  rendering on GitHub or <a href=\"https://nbviewer.jupyter.org/\">NBViewer</a>),\n",
       "  it may mean that your frontend doesn't currently support widgets.\n",
       "</p>\n"
      ],
      "text/plain": [
       "GPUIBuilder(function_import='differential_gene_expression', name='Differential Gene Expression', params=[{'name': 'phenotypes', 'label': 'phenotypes', 'optional': False, 'default': '', 'description': 'CLS filename; input binary phenotype/class distinction', 'hide': False, 'choices': []}, {'name': 'gene_expression', 'label': 'gene_expression', 'optional': False, 'default': '', 'description': 'GCT filename; data matrix with input gene expression profiles', 'hide': False, 'choices': []}, {'name': 'output_filename', 'label': 'output_filename', 'optional': False, 'default': '', 'description': 'Output files will have this name plus extensions .txt and .pdf', 'hide': False, 'choices': []}, {'name': 'ranking_method', 'label': 'ranking_method', 'optional': False, 'default': 'information_coefficient', 'description': 'The function to use to compute similarity between phenotypes and gene_expression', 'hide': False, 'choices': {'Information coefficient': 'information_coefficient', 'Pearson correlation': 'custom_pearson_corr', 'Signal to noise_ratio': 'signal_to_noise_ratio', 'T test statistic': 't_test_statistic', 'Spearman correlation': 'spearman_correlation'}}, {'name': 'max_number_of_genes_to_show', 'label': 'max_number_of_genes_to_show', 'optional': True, 'default': 20, 'description': 'Maximum number of genes to show in the heatmap', 'hide': False, 'choices': []}, {'name': 'number_of_permutations', 'label': 'number_of_permutations', 'optional': True, 'default': 10, 'description': 'Number of random permutations to estimate statistical significance (p-values and FDRs)', 'hide': False, 'choices': []}, {'name': 'title', 'label': 'title', 'optional': True, 'default': None, 'description': 'The title of the heatmap', 'hide': False, 'choices': []}, {'name': 'random_seed', 'label': 'random_seed', 'optional': True, 'default': 20121020, 'description': 'Random number generator seed (can be set to a user supplied integer for reproducibility)', 'hide': False, 'choices': []}])"
      ]
     },
     "metadata": {},
     "output_type": "display_data"
    }
   ],
   "source": [
    "import genepattern\n",
    "import cuzcatlan as cusca\n",
    "import pandas as pd\n",
    "import urllib.request\n",
    "from cuzcatlan import compute_information_coefficient\n",
    "from cuzcatlan import custom_pearson_corr\n",
    "RANDOM_SEED = 20121020\n",
    "\n",
    "@genepattern.build_ui(name=\"Differential Gene Expression\", parameters={\n",
    "    \"ranking_method\":{\n",
    "        \"default\":\"information_coefficient\",\n",
    "        \"choices\":{\n",
    "            \"Information coefficient\":\"information_coefficient\",\n",
    "            \"Pearson correlation\":\"custom_pearson_corr\",\n",
    "            \"Signal to noise_ratio\":\"signal_to_noise_ratio\",\n",
    "            \"T test statistic\":\"t_test_statistic\",\n",
    "            \"Spearman correlation\":\"spearman_correlation\",\n",
    "        }\n",
    "    }\n",
    "})\n",
    "\n",
    "#Note: definining here for simplicity, but this is a mirror of the function in cuzcatlan.\n",
    "def differential_gene_expression(\n",
    "    phenotypes:\"CLS filename; input binary phenotype/class distinction\",\n",
    "    gene_expression:\"GCT filename; data matrix with input gene expression profiles\",\n",
    "    output_filename:\"Output files will have this name plus extensions .txt and .pdf\",\n",
    "    ranking_method:\"The function to use to compute similarity between phenotypes and gene_expression\",\n",
    "    max_number_of_genes_to_show:\"Maximum number of genes to show in the heatmap\"=20,\n",
    "    number_of_permutations:\"Number of random permutations to estimate statistical significance (p-values and FDRs)\"=10,\n",
    "    title:\"The title of the heatmap\"=None,\n",
    "    random_seed:\"Random number generator seed (can be set to a user supplied integer for reproducibility)\"=RANDOM_SEED,):\n",
    "\n",
    "    #:param output_filename: \n",
    "    #:param ranking_method:callable;\n",
    "    #:param max_number_of_genes_to_show: int; \n",
    "    #:param number_of_permutations: int; \n",
    "    #:param title: str;\n",
    "    #:param random_seed: int | array; f\n",
    "    #:return: Dataframe; table of genes ranked by Information Coeff vs. phenotype\n",
    "\n",
    "    data_df = pd.read_table(gene_expression, header=2, index_col=0)\n",
    "    data_df.drop('Description', axis=1, inplace=True)\n",
    "\n",
    "    urlfile, __ = urllib.request.urlretrieve(phenotypes)\n",
    "    temp = open(urlfile)\n",
    "    temp.readline()\n",
    "    temp.readline()\n",
    "    classes = [int(i) for i in temp.readline().strip('\\n').split(' ')]\n",
    "    classes = pd.Series(classes, index=data_df.columns)\n",
    "\n",
    "    gene_scores = cusca.make_match_panel(\n",
    "        features=data_df,\n",
    "        target=classes,\n",
    "        function=ranking_method,\n",
    "        target_ascending=False,\n",
    "        n_top_features=0.99,\n",
    "        max_n_features=max_number_of_genes_to_show,\n",
    "        n_samplings=30,\n",
    "        n_permutations=number_of_permutations,\n",
    "        random_seed=random_seed,\n",
    "        target_type='binary',\n",
    "        title=title,\n",
    "        file_path_prefix=output_filename)\n",
    "\n",
    "    return gene_scores\n",
    "\n",
    "# genepattern.GPUIBuilder(cusca.differential_gene_expression, name=\"Differential Gene Expression! =D\")\n",
    "#genepattern.GPUIBuilder(differential_gene_expression, name=\"Differential Gene Expression! =D\")"
   ]
  },
  {
   "cell_type": "markdown",
   "metadata": {},
   "source": [
    "# Documentation"
   ]
  },
  {
   "cell_type": "markdown",
   "metadata": {},
   "source": [
    "### Parameters\n",
    ">1. **input_gene_expression**\n",
    "    1. Gene expression data filename (.gct or .txt file) or python DataFrame object where rows are genes and columns are samples.\n",
    "        1. ex. all_aml_test.gct\n",
    "2. **phenotypes_labels**\n",
    "    1. Phenotype of each sample in input_gene_expression file (array, Series where indices match , or row of GCT file)\n",
    "        1. ex. all_aml_test.cls\n",
    "3. **n_top_hits_to_display**\n",
    "    1. The number of most differentially expressed genes to show in the output plot (e.g., if this value is 5, a total of 10 genes (up/down-regulated) will be shown for each phenotype comparison).\n",
    "        1. 20 (default)\n",
    "4. **ranking_method** \n",
    "    1. The function used to perform the differential expression analysis. The choice of ranking_method also specifies the statistical significance calculation.\n",
    "        1. information_coefficient (default)\n",
    "        2. Pearson_correlation\n",
    "        3. signal_to_noise_ratio\n",
    "        4. t_test_statistic\n",
    "        5. Spearman correlation\n",
    "5. **multi_phenotype_mode** \n",
    "    1. Perform multiple differential expression runs for multiple phenotypes and produces the same outputs as a 2 phenotype run but with results stacked (with “genes_to_show” x 2 entries for each comparison). When using multiple phenotypes the outputs (heatmap or tables) have the same format but show a stack of results corresponding to each class comparison.\n",
    "        1. one_vs_all (default)\n",
    "        2. all_pairs"
   ]
  },
  {
   "cell_type": "markdown",
   "metadata": {},
   "source": [
    "## Input\n",
    "To use this module, you will need expression data (in the GCT or TXT file format) and the corresponding phenotype labels (in the CLS file format). Feel free to substitute your own data, for each of the example files.\n",
    "\n",
    "> **Example Dataset**: The example dataset comes from \"Molecular Classification of Cancer: Class Discovery and Class Prediction by Gene Expression Monitoring\" (<a href=\"#\">Golub *et al.* 1999</a>):<br>\n",
    ">>[**all_aml_test.cls**](http://datasets.genepattern.org/all_aml/all_aml_test.cls) - Phenotype Labels for AML and ALL test dataset\n",
    "<br>[**all_aml_test.gct**](http://datasets.genepattern.org/all_aml/all_aml_test.gct) - Expression Data for AML and ALL test dataset\n",
    "\n",
    "This study used clustering and prediction algorithms to find genes that distinguish between two types of acute leukemia: acute myeloid leukemia (AML) and acute lymphoblastic leukemia (ALL). Specifically, they used a class discovery and prediction method to demonstrate that cancer classification was feasible using gene expression monitoring, while being indepenendent of previous biological knowledge. The tested dataset comes from sequencing of 38 bone marrow samples from acute leukemia patients. (<a href=\"#\">Golub *et al.* 1999</a>)\n"
   ]
  },
  {
   "cell_type": "markdown",
   "metadata": {},
   "source": [
    "## Output\n",
    "The Differential Gene Expression Module will output \n",
    "\n",
    ">1. **Differential_expression_heatmap**\n",
    "    1. A .png file of a heatmap showing the “n_top_hits_to_display” most differentially expressed genes in each phenotype comparison. Includes the confidence intervals for the metric and statistical significance results.\n",
    "2. **Differential_expression_results**\n",
    "    1. A tab-separated TXT file which contains the results of the entire differential expression analysis, the confidence intervals for the metric and statistical significance results.\n",
    "3. **Returns**\n",
    "    1. This function returns (python) a data frame showing the same genes as the heatmap (gene_to_show x 2 entries)."
   ]
  },
  {
   "cell_type": "markdown",
   "metadata": {},
   "source": [
    "## Version Information\n",
    "\n",
    ">Beta"
   ]
  },
  {
   "cell_type": "markdown",
   "metadata": {},
   "source": [
    "## References\n",
    "<small>\n",
    "1. Benjamini Y, Hochberg Y. Controlling the False Discovery Rate: A Practical and Powerful Approach to Multiple Testing. Journal of the Royal Statistical Society. Series B (Methodological). 1995;57(1):289-300. \n",
    "2. Golub T, Slonim D, et al. Molecular Classification of Cancer: Class Discovery and Class Prediction by Gene Expression. Science. 1999;286:531-537. \n",
    "3. Good P. Permutation Tests: A Practical Guide for Testing Hypotheses, 2nd Ed. New York: Springer-Verlag. 2000. \n",
    "4. Gould J, Getz G, Monti S, Reich M, Mesirov JP. Comparative gene marker selection suite. Bioinformatics. 2006;22;1924-1925, doi:10.1093/bioinformatics/btl196. \n",
    "5. Lu J, Getz G, Miska E, et al. MicroRNA Expression Profiles Classify Human Cancers. Nature. 2005;435:834-838. \n",
    "6. Storey JD, Tibshirani R. Statistical significance for genomewide studies. PNAS. 2003;100(16):9440-9445. \n",
    "7. Westfall PH, Young SS. Resampling-Based Multiple Testing: Examples and Methods for p-Value Adjustment, in Wiley Series in Probability and Statistics. New York: Wiley, 1993.\n",
    "</small>"
   ]
  },
  {
   "cell_type": "markdown",
   "metadata": {},
   "source": [
    "<a href=\"#Differential-(gene)-Expression\" class=\"btn btn-info\" style=\"text-decoration:none;\">To Top</a>"
   ]
  }
 ],
 "metadata": {
  "kernelspec": {
   "display_name": "Python 3",
   "language": "python",
   "name": "python3"
  },
  "language_info": {
   "codemirror_mode": {
    "name": "ipython",
    "version": 3
   },
   "file_extension": ".py",
   "mimetype": "text/x-python",
   "name": "python",
   "nbconvert_exporter": "python",
   "pygments_lexer": "ipython3",
   "version": "3.6.3"
  }
 },
 "nbformat": 4,
 "nbformat_minor": 2
}
